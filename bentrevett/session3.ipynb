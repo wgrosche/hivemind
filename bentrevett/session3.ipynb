{
 "cells": [
  {
   "cell_type": "code",
   "execution_count": 1,
   "metadata": {},
   "outputs": [],
   "source": [
    "\n",
    "\n",
    "import torch\n",
    "import torch.nn as nn\n",
    "import torch.optim as optim\n",
    "import torch.nn.functional as F\n",
    "import torch.distributions as distributions\n",
    "\n",
    "import matplotlib.pyplot as plt\n",
    "import numpy as np\n",
    "import gym\n",
    "import tqdm\n"
   ]
  },
  {
   "cell_type": "code",
   "execution_count": 2,
   "metadata": {},
   "outputs": [
    {
     "name": "stderr",
     "output_type": "stream",
     "text": [
      "/Users/friedrichwilkegrosche/miniforge3/envs/hivemind/lib/python3.10/site-packages/gym/utils/passive_env_checker.py:97: UserWarning: \u001b[33mWARN: We recommend you to use a symmetric and normalized Box action space (range=[-1, 1]) https://stable-baselines3.readthedocs.io/en/master/guide/rl_tips.html\u001b[0m\n",
      "  logger.warn(\n",
      "/Users/friedrichwilkegrosche/miniforge3/envs/hivemind/lib/python3.10/site-packages/gym/core.py:200: DeprecationWarning: \u001b[33mWARN: Function `env.seed(seed)` is marked as deprecated and will be removed in the future. Please use `env.reset(seed=seed)` instead.\u001b[0m\n",
      "  deprecation(\n"
     ]
    },
    {
     "data": {
      "text/plain": [
       "<torch._C.Generator at 0x106a2cdf0>"
      ]
     },
     "execution_count": 2,
     "metadata": {},
     "output_type": "execute_result"
    }
   ],
   "source": [
    "train_env = gym.make('CartPole-v1')\n",
    "test_env = gym.make('CartPole-v1')\n",
    "\n",
    "SEED = 1234\n",
    "\n",
    "train_env.seed(SEED)\n",
    "test_env.seed(SEED+1)\n",
    "np.random.seed(SEED)\n",
    "torch.manual_seed(SEED)\n"
   ]
  },
  {
   "cell_type": "code",
   "execution_count": 3,
   "metadata": {},
   "outputs": [],
   "source": [
    "class MLP(nn.Module):\n",
    "    def __init__(self, input_dim, hidden_dim, output_dim):\n",
    "        super().__init__()\n",
    "\n",
    "        self.fc_1 = nn.Linear(input_dim, hidden_dim)\n",
    "        self.fc_2 = nn.Linear(hidden_dim, output_dim)\n",
    "\n",
    "    def forward(self, x):\n",
    "        x = self.fc_1(x)\n",
    "        x = F.relu(x)\n",
    "        x = self.fc_2(x)\n",
    "        return x\n",
    "\n",
    "\n",
    "class ActorCritic(nn.Module):\n",
    "    def __init__(self, actor, critic):\n",
    "        super().__init__()\n",
    "\n",
    "        self.actor = actor\n",
    "        self.critic = critic\n",
    "\n",
    "    def forward(self, state):\n",
    "\n",
    "        action_pred = self.actor(state)\n",
    "        value_pred = self.critic(state)\n",
    "\n",
    "        return action_pred, value_pred\n"
   ]
  },
  {
   "cell_type": "markdown",
   "metadata": {},
   "source": []
  },
  {
   "cell_type": "code",
   "execution_count": 4,
   "metadata": {},
   "outputs": [],
   "source": [
    "input_dim = train_env.observation_space.shape[0]\n",
    "hidden_dim = 32\n",
    "output_dim = train_env.action_space.n\n"
   ]
  },
  {
   "cell_type": "code",
   "execution_count": 5,
   "metadata": {},
   "outputs": [],
   "source": [
    "\n",
    "\n",
    "\n",
    "\n",
    "def init_weights(m):\n",
    "    if type(m) == nn.Linear:\n",
    "        torch.nn.init.kaiming_normal_(m.weight)\n",
    "        m.bias.data.fill_(0)\n",
    "\n",
    "\n",
    "device = torch.device('cuda')\n",
    "\n",
    "\n",
    "def train(env, policy, optimizer, discount_factor, device):\n",
    "\n",
    "    policy.train()\n",
    "\n",
    "    log_prob_actions = []\n",
    "    entropies = []\n",
    "    value_preds = []\n",
    "    rewards = []\n",
    "    done = False\n",
    "    episode_reward = 0\n",
    "\n",
    "    state = env.reset()\n",
    "\n",
    "    while not done:\n",
    "\n",
    "        state = torch.FloatTensor(state).unsqueeze(0).to(device)\n",
    "\n",
    "        action_pred, value_pred = policy(state)\n",
    "\n",
    "        action_prob = F.softmax(action_pred, dim=-1)\n",
    "\n",
    "        dist = distributions.Categorical(action_prob)\n",
    "\n",
    "        action = dist.sample()\n",
    "        log_prob_action = dist.log_prob(action)\n",
    "\n",
    "        entropy = dist.entropy()\n",
    "\n",
    "        state, reward, done, _ = env.step(action.item())\n",
    "\n",
    "        log_prob_actions.append(log_prob_action)\n",
    "        entropies.append(entropy)\n",
    "        value_preds.append(value_pred.squeeze(0))\n",
    "        rewards.append(reward)\n",
    "\n",
    "        episode_reward += reward\n",
    "\n",
    "    log_prob_actions = torch.cat(log_prob_actions)\n",
    "    entropies = torch.cat(entropies)\n",
    "    value_preds = torch.cat(value_preds)\n",
    "\n",
    "    returns = calculate_returns(rewards, discount_factor, device)\n",
    "    advantages = calculate_advantages(returns, value_preds)\n",
    "\n",
    "    loss = update_policy(advantages, log_prob_actions,\n",
    "                         returns, value_preds, entropies, optimizer)\n",
    "\n",
    "    return loss, episode_reward\n",
    "\n",
    "\n",
    "def calculate_returns(rewards, discount_factor, device, normalize=True):\n",
    "\n",
    "    returns = []\n",
    "    R = 0\n",
    "\n",
    "    for r in reversed(rewards):\n",
    "        R = r + R * discount_factor\n",
    "        returns.insert(0, R)\n",
    "\n",
    "    returns = torch.tensor(returns).to(device)\n",
    "\n",
    "    if normalize:\n",
    "        returns = (returns - returns.mean()) / returns.std()\n",
    "\n",
    "    return returns\n",
    "\n",
    "\n",
    "def calculate_advantages(returns, pred_values, normalize=True):\n",
    "\n",
    "    advantages = returns - pred_values\n",
    "\n",
    "    if normalize:\n",
    "\n",
    "        advantages = (advantages - advantages.mean()) / advantages.std()\n",
    "\n",
    "    return advantages\n",
    "\n",
    "\n",
    "def update_policy(advantages, log_prob_actions, returns, value_preds, entropies, optimizer):\n",
    "\n",
    "    returns = returns.detach()\n",
    "\n",
    "    policy_loss = -(advantages * log_prob_actions).mean()\n",
    "    value_loss = F.smooth_l1_loss(returns, value_preds)\n",
    "\n",
    "    optimizer.zero_grad()\n",
    "\n",
    "    loss = policy_loss + value_loss * 0.5 - entropies.mean() * 0.01\n",
    "\n",
    "    loss.backward()\n",
    "\n",
    "    optimizer.step()\n",
    "\n",
    "    return loss.item()\n",
    "\n",
    "\n",
    "def evaluate(env, policy, device):\n",
    "\n",
    "    policy.eval()\n",
    "\n",
    "    done = False\n",
    "    episode_reward = 0\n",
    "\n",
    "    state = env.reset()\n",
    "\n",
    "    while not done:\n",
    "\n",
    "        state = torch.FloatTensor(state).unsqueeze(0).to(device)\n",
    "\n",
    "        with torch.no_grad():\n",
    "\n",
    "            action_pred, _ = policy(state)\n",
    "\n",
    "            action_prob = F.softmax(action_pred, dim=-1)\n",
    "\n",
    "        action = torch.argmax(action_prob, dim=-1)\n",
    "\n",
    "        state, reward, done, _ = env.step(action.item())\n",
    "\n",
    "        episode_reward += reward\n",
    "\n",
    "    return episode_reward\n",
    "\n",
    "\n"
   ]
  },
  {
   "cell_type": "code",
   "execution_count": 7,
   "metadata": {},
   "outputs": [
    {
     "name": "stderr",
     "output_type": "stream",
     "text": [
      "Run: 0: 100%|██████████| 300/300 [00:26<00:00, 11.46it/s]\n",
      "Run: 1: 100%|██████████| 300/300 [00:26<00:00, 11.47it/s]\n",
      "Run: 2: 100%|██████████| 300/300 [00:20<00:00, 14.78it/s]\n",
      "Run: 3: 100%|██████████| 300/300 [00:24<00:00, 12.23it/s]\n",
      "Run: 4: 100%|██████████| 300/300 [00:27<00:00, 10.76it/s]"
     ]
    },
    {
     "name": "stdout",
     "output_type": "stream",
     "text": [
      "tensor(0.7848)\n",
      "tensor(2.7690)\n"
     ]
    },
    {
     "name": "stderr",
     "output_type": "stream",
     "text": [
      "\n"
     ]
    },
    {
     "data": {
      "image/png": "[encoded data removed]",
      "text/plain": [
       "<Figure size 720x432 with 1 Axes>"
      ]
     },
     "metadata": {
      "needs_background": "light"
     },
     "output_type": "display_data"
    }
   ],
   "source": [
    "n_runs = 5\n",
    "max_episodes = 300\n",
    "discount_factor = 0.99\n",
    "\n",
    "train_rewards = torch.zeros(n_runs, max_episodes)\n",
    "test_rewards = torch.zeros(n_runs, max_episodes)\n",
    "device = torch.device('cpu')\n",
    "\n",
    "for run in range(n_runs):\n",
    "\n",
    "    actor = MLP(input_dim, hidden_dim, output_dim)\n",
    "    critic = MLP(input_dim, hidden_dim, 1)\n",
    "    actor_critic = ActorCritic(actor, critic)\n",
    "    actor_critic = actor_critic.to(device)\n",
    "    actor_critic.apply(init_weights)\n",
    "    optimizer = optim.Adam(actor_critic.parameters(), lr=1e-2)\n",
    "\n",
    "    for episode in tqdm.tqdm(range(max_episodes), desc=f'Run: {run}'):\n",
    "\n",
    "        loss, train_reward = train(\n",
    "            train_env, actor_critic, optimizer, discount_factor, device)\n",
    "\n",
    "        test_reward = evaluate(test_env, actor_critic, device)\n",
    "\n",
    "        train_rewards[run][episode] = train_reward\n",
    "        test_rewards[run][episode] = test_reward\n",
    "\n",
    "\n",
    "idxs = range(max_episodes)\n",
    "fig, ax = plt.subplots(1, figsize=(10, 6))\n",
    "ax.plot(idxs, test_rewards.mean(0))\n",
    "ax.fill_between(idxs, test_rewards.min(0).values,\n",
    "                test_rewards.max(0).values, alpha=0.1)\n",
    "ax.set_xlabel('Steps')\n",
    "ax.set_ylabel('Rewards')\n",
    "\n",
    "x = torch.randn(2, 10)\n",
    "y = torch.randn(2, 10)\n",
    "print(F.smooth_l1_loss(x, y))\n",
    "print(F.mse_loss(x, y))\n"
   ]
  },
  {
   "cell_type": "code",
   "execution_count": null,
   "metadata": {},
   "outputs": [],
   "source": []
  }
 ],
 "metadata": {
  "kernelspec": {
   "display_name": "Python 3.10.5 ('hivemind')",
   "language": "python",
   "name": "python3"
  },
  "language_info": {
   "codemirror_mode": {
    "name": "ipython",
    "version": 3
   },
   "file_extension": ".py",
   "mimetype": "text/x-python",
   "name": "python",
   "nbconvert_exporter": "python",
   "pygments_lexer": "ipython3",
   "version": "3.10.5"
  },
  "orig_nbformat": 4,
  "vscode": {
   "interpreter": {
    "hash": "68c606508e586a01c3c8026c75f96ff0177306a24be15fc02ae4ce9a5ad27c71"
   }
  }
 },
 "nbformat": 4,
 "nbformat_minor": 2
}
