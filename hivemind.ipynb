{
 "cells": [
  {
   "cell_type": "code",
   "execution_count": 2,
   "metadata": {},
   "outputs": [],
   "source": [
    "import numpy as np"
   ]
  },
  {
   "cell_type": "code",
   "execution_count": 9,
   "metadata": {},
   "outputs": [],
   "source": [
    "class Hive:\n",
    "    def __init__(self, height, width):\n",
    "        self.height = height\n",
    "        self.width = width\n",
    "        self.board = np.zeros((height, width, 5), dtype=object)\n",
    "        self.pieces = []\n",
    "        self.turn = 0\n",
    "        self.turn_count = 0\n"
   ]
  },
  {
   "cell_type": "code",
   "execution_count": 10,
   "metadata": {},
   "outputs": [],
   "source": [
    "hive_test = Hive(22,22)"
   ]
  },
  {
   "cell_type": "code",
   "execution_count": 11,
   "metadata": {},
   "outputs": [
    {
     "data": {
      "text/plain": [
       "array([0, 0, 0, 0, 0], dtype=object)"
      ]
     },
     "execution_count": 11,
     "metadata": {},
     "output_type": "execute_result"
    }
   ],
   "source": [
    "hive_test.board[0,0]"
   ]
  },
  {
   "cell_type": "code",
   "execution_count": 22,
   "metadata": {},
   "outputs": [
    {
     "data": {
      "text/plain": [
       "(2, 2, 3)"
      ]
     },
     "execution_count": 22,
     "metadata": {},
     "output_type": "execute_result"
    }
   ],
   "source": [
    "tuple(map(sum, zip((1,1,2),(1,1,1))))"
   ]
  },
  {
   "cell_type": "markdown",
   "metadata": {},
   "source": [
    "Data Structures used for Hive\n",
    "\n",
    "Array:\n",
    "    Used to store positional data and manage the moves\n",
    "    22x22\n",
    "    Each entry has a piece id\n",
    "    loops at the edges\n",
    "\n",
    "Graph:\n",
    "    Each node has a list of adjacent pieces\n",
    "    Used to store adjacency data\n",
    "    Validates moves\n"
   ]
  },
  {
   "cell_type": "code",
   "execution_count": 154,
   "metadata": {},
   "outputs": [],
   "source": [
    "\n",
    "\n",
    "class Hive:\n",
    "    def __init__(self, height, width):\n",
    "        self.height = height\n",
    "        self.width = width\n",
    "        self.board = np.zeros((height, width, 5), dtype=object)\n",
    "        self.pieces = {}\n",
    "\n",
    "    def place_piece(self, piece, position):\n",
    "        x, y, z = position\n",
    "        self.board[x,y,z] = piece\n",
    "        self.pieces[piece] =  self.adjacent(piece)\n",
    "        for adj in self.adjacent(piece):\n",
    "            self.pieces[str(adj)] = self.adjacent(str(adj))\n",
    "\n",
    "    def adjacent(self, piece):\n",
    "        \"\"\"\n",
    "        Returns a list of all adjacent tiles.\n",
    "        \"\"\"\n",
    "        x, y, z = np.where(self.board == piece)\n",
    "        adjacents = []\n",
    "        for dx, dy in [(0, -1), (1, -1), (-1, 0), (1, 0), (0, 1), (1, 1)]:\n",
    "            adj = self.board[(y+dy) % self.height, (x+dx) % self.width, z]\n",
    "            if adj[0]:\n",
    "                adjacents.append(adj[0])\n",
    "        return adjacents\n",
    "\n",
    "    def crawl_piece(self, piece, direction):\n",
    "        position = np.where(self.board == piece)"
   ]
  },
  {
   "cell_type": "code",
   "execution_count": 155,
   "metadata": {},
   "outputs": [],
   "source": [
    "hive = Hive(3,3)"
   ]
  },
  {
   "cell_type": "code",
   "execution_count": 156,
   "metadata": {},
   "outputs": [],
   "source": [
    "hive.place_piece('b', (1,1,0))"
   ]
  },
  {
   "cell_type": "code",
   "execution_count": 161,
   "metadata": {},
   "outputs": [
    {
     "data": {
      "text/plain": [
       "{'b': ['a', 'd'], 'a': ['d', 'b'], 'c': [], 'd': ['b', 'a']}"
      ]
     },
     "execution_count": 161,
     "metadata": {},
     "output_type": "execute_result"
    }
   ],
   "source": [
    "hive.pieces"
   ]
  },
  {
   "cell_type": "code",
   "execution_count": 158,
   "metadata": {},
   "outputs": [],
   "source": [
    "hive.place_piece('a', (1,0,0))"
   ]
  },
  {
   "cell_type": "code",
   "execution_count": 159,
   "metadata": {},
   "outputs": [],
   "source": [
    "hive.place_piece('c', (1,0,1))"
   ]
  },
  {
   "cell_type": "code",
   "execution_count": 160,
   "metadata": {},
   "outputs": [],
   "source": [
    "hive.place_piece('d', (2,1,0))"
   ]
  },
  {
   "cell_type": "code",
   "execution_count": null,
   "metadata": {},
   "outputs": [],
   "source": []
  }
 ],
 "metadata": {
  "kernelspec": {
   "display_name": "Python 3.10.4 ('hivemind')",
   "language": "python",
   "name": "python3"
  },
  "language_info": {
   "codemirror_mode": {
    "name": "ipython",
    "version": 3
   },
   "file_extension": ".py",
   "mimetype": "text/x-python",
   "name": "python",
   "nbconvert_exporter": "python",
   "pygments_lexer": "ipython3",
   "version": "3.10.4"
  },
  "orig_nbformat": 4,
  "vscode": {
   "interpreter": {
    "hash": "68c606508e586a01c3c8026c75f96ff0177306a24be15fc02ae4ce9a5ad27c71"
   }
  }
 },
 "nbformat": 4,
 "nbformat_minor": 2
}
