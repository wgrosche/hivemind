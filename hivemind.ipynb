{
 "cells": [
  {
   "cell_type": "code",
   "execution_count": 2,
   "metadata": {},
   "outputs": [],
   "source": [
    "import numpy as np"
   ]
  },
  {
   "cell_type": "code",
   "execution_count": 9,
   "metadata": {},
   "outputs": [],
   "source": [
    "class Hive:\n",
    "    def __init__(self, height, width):\n",
    "        self.height = height\n",
    "        self.width = width\n",
    "        self.board = np.zeros((height, width, 5), dtype=object)\n",
    "        self.pieces = []\n",
    "        self.turn = 0\n",
    "        self.turn_count = 0\n"
   ]
  },
  {
   "cell_type": "code",
   "execution_count": null,
   "metadata": {},
   "outputs": [],
   "source": []
  },
  {
   "cell_type": "code",
   "execution_count": 10,
   "metadata": {},
   "outputs": [],
   "source": [
    "hive_test = Hive(22,22)"
   ]
  },
  {
   "cell_type": "code",
   "execution_count": 11,
   "metadata": {},
   "outputs": [
    {
     "data": {
      "text/plain": [
       "array([0, 0, 0, 0, 0], dtype=object)"
      ]
     },
     "execution_count": 11,
     "metadata": {},
     "output_type": "execute_result"
    }
   ],
   "source": [
    "hive_test.board[0,0]"
   ]
  },
  {
   "cell_type": "code",
   "execution_count": 22,
   "metadata": {},
   "outputs": [
    {
     "data": {
      "text/plain": [
       "(2, 2, 3)"
      ]
     },
     "execution_count": 22,
     "metadata": {},
     "output_type": "execute_result"
    }
   ],
   "source": [
    "tuple(map(sum, zip((1,1,2),(1,1,1))))"
   ]
  },
  {
   "cell_type": "markdown",
   "metadata": {},
   "source": [
    "Data Structures used for Hive\n",
    "\n",
    "Array:\n",
    "    Used to store positional data and manage the moves\n",
    "    22x22\n",
    "    Each entry has a piece id\n",
    "    loops at the edges\n",
    "\n",
    "Graph:\n",
    "    Each node has a list of adjacent pieces\n",
    "    Used to store adjacency data\n",
    "    Validates moves\n"
   ]
  },
  {
   "cell_type": "code",
   "execution_count": 195,
   "metadata": {},
   "outputs": [],
   "source": [
    "\n",
    "\n",
    "class Hive:\n",
    "    def __init__(self, height, width):\n",
    "        self.height = height\n",
    "        self.width = width\n",
    "        self.board = np.zeros((height, width, 5), dtype=object)\n",
    "        self.pieces = {}\n",
    "\n",
    "    def place_piece(self, piece, position):\n",
    "        x, y, z = position\n",
    "        self.board[x,y,z] = piece\n",
    "        self.pieces[piece] =  self.adjacent(piece)\n",
    "        for adj in self.adjacent(piece):\n",
    "            self.pieces[adj] = self.adjacent(adj)\n",
    "\n",
    "    def adjacent(self, piece):\n",
    "        \"\"\"\n",
    "        Returns a list of all adjacent tiles.\n",
    "        \"\"\"\n",
    "        x, y, z = np.where(self.board == piece)\n",
    "        adjacents = []\n",
    "        for dx, dy in [(0, -1), (1, -1), (-1, 0), (1, 0), (0, 1), (1, 1)]:\n",
    "            adj = self.board[(y+dy) % self.height, (x+dx) % self.width, z]\n",
    "            if adj[0]:\n",
    "                adjacents.append(str(adj[0]))\n",
    "        return adjacents\n",
    "\n",
    "\n",
    "    def tuplerize(self, a, b):\n",
    "        tuple(map(sum, zip(a, b)))\n",
    "\n",
    "    def one_hive(self):\n",
    "        \"\"\"\n",
    "        Performs a DFS on the board to find elements that are connected.\n",
    "        \"\"\"\n",
    "        visited = set()\n",
    "        piece = self.pieces[list(self.pieces.keys())[0]]\n",
    "        self.dfs(piece, visited)\n",
    "\n",
    "        return visited == len(self.pieces)\n",
    "\n",
    "    def dfs(self, piece, visited):\n",
    "        \"\"\"\n",
    "        Performs a DFS on the board to find elements that are connected.\n",
    "        \"\"\"\n",
    "        visited.add(piece)\n",
    "        for adj in self.adjacent(piece):\n",
    "            if adj not in visited:\n",
    "                self.dfs(adj, visited)\n",
    "\n",
    "\n",
    "    \n",
    "    def crawl_piece(self, piece, direction):\n",
    "        position = np.where(self.board == piece)\n",
    "\n",
    "    "
   ]
  },
  {
   "cell_type": "code",
   "execution_count": 301,
   "metadata": {},
   "outputs": [],
   "source": [
    "\n",
    "\n",
    "class Hive:\n",
    "    def __init__(self, height, width):\n",
    "        self.height = height\n",
    "        self.width = width\n",
    "        self.board = np.zeros((height, width), dtype=object)\n",
    "        self.pieces = {}\n",
    "        self.white_pieces = ['wq', 'wa1', 'wa2', 'wa3', 'wb1', 'wb2', 'wg1', 'wg2', 'ws1', 'ws2', 'ws3']\n",
    "        self.black_pieces = ['bq', 'ba1', 'ba2', 'ba3', 'bb1', 'bb2', 'bg1', 'bg2', 'bs1', 'bs2', 'bs3']\n",
    "\n",
    "    def place_piece(self, piece, position):\n",
    "        \"\"\"\n",
    "        Places a piece on the board.\n",
    "        \"\"\"\n",
    "        x, y = position\n",
    "        if self.board[x,y] != 0:\n",
    "            print(\"Position already occupied\")\n",
    "            return False\n",
    "\n",
    "        self.board[x,y] = piece\n",
    "        self.pieces[piece] = self.adjacent(piece)\n",
    "        for adj in self.adjacent(piece):\n",
    "            if adj not in self.same_colour(piece):\n",
    "                self.board[x,y] = 0\n",
    "                self.pieces.pop(piece)\n",
    "                print(\"Illegal move\")\n",
    "                return False\n",
    "            self.pieces[adj] = self.adjacent(adj)\n",
    "\n",
    "\n",
    "    def adjacent(self, piece):\n",
    "        \"\"\"\n",
    "        Returns a list of all adjacent tiles.\n",
    "        \"\"\"\n",
    "        x, y = np.where(self.board == piece)\n",
    "        adjacents = []\n",
    "        for dx, dy in [(0, -1), (1, -1), (-1, 0), (1, 0), (0, 1), (1, 1)]:\n",
    "            adj = self.board[(y+dy) % self.height, (x+dx) % self.width]\n",
    "            if adj[0]:\n",
    "                adjacents.append(str(adj[0]))\n",
    "        return adjacents\n",
    "\n",
    "\n",
    "    def one_hive(self):\n",
    "        \"\"\"\n",
    "        Performs a DFS on the board to find elements that are connected.\n",
    "        \"\"\"\n",
    "        visited = set()\n",
    "        piece = list(self.pieces.keys())[0]\n",
    "        self.dfs(piece, visited)\n",
    "\n",
    "        return len(visited) == len(self.pieces)\n",
    "\n",
    "    def dfs(self, piece, visited):\n",
    "        \"\"\"\n",
    "        Performs a DFS on the board to find elements that are connected.\n",
    "        \"\"\"\n",
    "        visited.add(piece)\n",
    "        for adj in self.adjacent(piece):\n",
    "            if adj not in visited:\n",
    "                self.dfs(adj, visited)\n",
    "\n",
    "    def move(self, piece, position):\n",
    "        \"\"\"\n",
    "        Moves a piece to a new position. For now without checking whether the path is legal\n",
    "        \"\"\"\n",
    "        x, y = position\n",
    "        if self.board[x,y] != 0:\n",
    "            print(\"Position already occupied\")\n",
    "            return False\n",
    "        self.board[np.where(self.board == piece)] = 0\n",
    "        self.board[x,y] = piece\n",
    "        self.pieces[piece] = self.adjacent(piece)\n",
    "        for adj in self.adjacent(piece):\n",
    "            self.pieces[adj] = self.adjacent(adj)\n",
    "            \n",
    "\n",
    "    def same_colour(self, piece):\n",
    "        \"\"\"\n",
    "        Returns a list of all pieces of the same colour as the given piece.\n",
    "        \"\"\"\n",
    "        if piece in self.white_pieces:\n",
    "            return self.white_pieces\n",
    "        elif piece in self.black_pieces:\n",
    "            return self.black_pieces\n",
    "        else:\n",
    "            print(\"Piece not found\")\n",
    "            return False\n",
    "\n"
   ]
  },
  {
   "cell_type": "code",
   "execution_count": 302,
   "metadata": {},
   "outputs": [],
   "source": [
    "hive = Hive(4,4)"
   ]
  },
  {
   "cell_type": "code",
   "execution_count": 303,
   "metadata": {},
   "outputs": [
    {
     "name": "stdout",
     "output_type": "stream",
     "text": [
      "Illegal move\n"
     ]
    },
    {
     "data": {
      "text/plain": [
       "False"
      ]
     },
     "execution_count": 303,
     "metadata": {},
     "output_type": "execute_result"
    }
   ],
   "source": [
    "hive.place_piece('wq', (0,0))\n",
    "\n",
    "hive.place_piece('wb1', (1,0))\n",
    "\n",
    "hive.place_piece('bb2', (0,1))\n"
   ]
  },
  {
   "cell_type": "code",
   "execution_count": 308,
   "metadata": {},
   "outputs": [
    {
     "data": {
      "text/plain": [
       "False"
      ]
     },
     "execution_count": 308,
     "metadata": {},
     "output_type": "execute_result"
    }
   ],
   "source": [
    "hive.one_hive()"
   ]
  },
  {
   "cell_type": "code",
   "execution_count": 305,
   "metadata": {},
   "outputs": [
    {
     "data": {
      "text/plain": [
       "array([['wq', 0, 0, 0],\n",
       "       ['wb1', 0, 0, 0],\n",
       "       [0, 0, 0, 0],\n",
       "       [0, 0, 0, 0]], dtype=object)"
      ]
     },
     "execution_count": 305,
     "metadata": {},
     "output_type": "execute_result"
    }
   ],
   "source": [
    "hive.board"
   ]
  },
  {
   "cell_type": "code",
   "execution_count": 306,
   "metadata": {},
   "outputs": [],
   "source": [
    "hive.move('wq', (2,3))"
   ]
  },
  {
   "cell_type": "code",
   "execution_count": 307,
   "metadata": {},
   "outputs": [
    {
     "data": {
      "text/plain": [
       "array([[0, 0, 0, 0],\n",
       "       ['wb1', 0, 0, 0],\n",
       "       [0, 0, 0, 'wq'],\n",
       "       [0, 0, 0, 0]], dtype=object)"
      ]
     },
     "execution_count": 307,
     "metadata": {},
     "output_type": "execute_result"
    }
   ],
   "source": [
    "hive.board"
   ]
  },
  {
   "cell_type": "code",
   "execution_count": null,
   "metadata": {},
   "outputs": [],
   "source": []
  }
 ],
 "metadata": {
  "kernelspec": {
   "display_name": "Python 3.10.4 ('hivemind')",
   "language": "python",
   "name": "python3"
  },
  "language_info": {
   "codemirror_mode": {
    "name": "ipython",
    "version": 3
   },
   "file_extension": ".py",
   "mimetype": "text/x-python",
   "name": "python",
   "nbconvert_exporter": "python",
   "pygments_lexer": "ipython3",
   "version": "3.10.5"
  },
  "orig_nbformat": 4,
  "vscode": {
   "interpreter": {
    "hash": "68c606508e586a01c3c8026c75f96ff0177306a24be15fc02ae4ce9a5ad27c71"
   }
  }
 },
 "nbformat": 4,
 "nbformat_minor": 2
}
